{
 "cells": [
  {
   "cell_type": "code",
   "execution_count": null,
   "id": "43bfee07-a210-4cd4-9349-ad3c67b60d5f",
   "metadata": {
    "trusted": true
   },
   "outputs": [],
   "source": [
    "%pip install wbdata\n",
    "import wbdata"
   ]
  },
  {
   "cell_type": "code",
   "execution_count": null,
   "id": "2304c863-b06d-4695-895c-c6c60e29a8e6",
   "metadata": {
    "trusted": true
   },
   "outputs": [],
   "source": [
    "wbdata.get_countries()"
   ]
  },
  {
   "cell_type": "code",
   "execution_count": null,
   "id": "835a7a16-3fd7-486f-ae25-a8f9b0edac39",
   "metadata": {
    "trusted": true
   },
   "outputs": [],
   "source": [
    "wbdata.get_sources() "
   ]
  },
  {
   "cell_type": "code",
   "execution_count": null,
   "id": "8f85f23c-dc07-41a3-9c8c-3592c82844d1",
   "metadata": {
    "trusted": true
   },
   "outputs": [],
   "source": [
    "SOURCE1 = 14\n",
    "indicators = wbdata.get_indicators(source = SOURCE1)\n",
    "indicators"
   ]
  },
  {
   "cell_type": "code",
   "execution_count": null,
   "id": "f8b51c56",
   "metadata": {},
   "outputs": [],
   "source": [
    "pip install pandas\n"
   ]
  },
  {
   "cell_type": "code",
   "execution_count": null,
   "id": "44bf6887",
   "metadata": {},
   "outputs": [],
   "source": [
    "import pandas as pd\n",
    "\n",
    "# Set pandas plotting backend to plotly\n",
    "pd.options.plotting.backend"
   ]
  },
  {
   "cell_type": "code",
   "execution_count": null,
   "id": "431a44ac-d7b3-400d-abd2-6d8fcaee0a2b",
   "metadata": {
    "trusted": true
   },
   "outputs": [],
   "source": [
    "variable_labels = {\"SP.POP.TOTL\":\"Population, Total\"}\n",
    "PSS_pop = wbdata.get_dataframe(variable_labels, country=\"PSS\",parse_dates=True)\n",
    "PSS_pop.head()"
   ]
  },
  {
   "cell_type": "code",
   "execution_count": null,
   "id": "9b43aeae",
   "metadata": {},
   "outputs": [],
   "source": [
    "pip install matplotlib\n"
   ]
  },
  {
   "cell_type": "code",
   "execution_count": null,
   "id": "aa0bf86a",
   "metadata": {},
   "outputs": [],
   "source": [
    "print(PSS_pop.index)"
   ]
  },
  {
   "cell_type": "code",
   "execution_count": null,
   "id": "b32eee4f",
   "metadata": {},
   "outputs": [],
   "source": [
    "pip install seaborn\n"
   ]
  },
  {
   "cell_type": "code",
   "execution_count": null,
   "id": "4067a850",
   "metadata": {},
   "outputs": [],
   "source": [
    "import wbdata\n",
    "import pandas as pd\n",
    "import matplotlib.pyplot as plt\n",
    "import numpy as np\n",
    "import matplotlib.pyplot as plt\n",
    "import seaborn as sea"
   ]
  },
  {
   "cell_type": "code",
   "execution_count": null,
   "id": "da8a215a",
   "metadata": {},
   "outputs": [],
   "source": [
    "countries = [\"FJI\", \"SLB\", \"VUT\", \"WSM\", \"FSM\", \"KIR\", \"TON\", \"MHL\", \"PLW\", \"TUV\", \"NRU\"]"
   ]
  },
  {
   "cell_type": "code",
   "execution_count": null,
   "id": "e250f6bb",
   "metadata": {},
   "outputs": [],
   "source": [
    "variable_labels_TFRT = {\"SP.DYN.TFRT.IN\": \"Fertility Rate\"}"
   ]
  },
  {
   "cell_type": "code",
   "execution_count": null,
   "id": "8361d14d",
   "metadata": {},
   "outputs": [],
   "source": [
    "DYN_PSS_TFRT = wbdata.get_dataframe(variable_labels_TFRT, country=countries)\n",
    "print(DYN_PSS_TFRT)\n",
    "\n",
    "DYN_PSS_TFRT_cleaned = DYN_PSS_TFRT.dropna().reset_index()"
   ]
  },
  {
   "cell_type": "code",
   "execution_count": null,
   "id": "4dbe35d3",
   "metadata": {},
   "outputs": [],
   "source": [
    "plt.figure(figsize=(12, 6))\n",
    "sea.histplot(\n",
    "    data=DYN_PSS_TFRT_cleaned, \n",
    "    x=\"Fertility Rate\", \n",
    "    hue=\"country\",  # Different colors for different countries\n",
    "    bins=15, \n",
    "    kde=True, \n",
    "    palette=\"tab10\",\n",
    "    alpha=0.7\n",
    ")\n",
    "\n",
    "# Customizing the plot\n",
    "plt.title(\"Distribution of Fertility Rates by Country\")\n",
    "plt.xlabel(\"Fertility Rate\")\n",
    "plt.ylabel(\"Weight\")\n",
    "plt.legend(title=\"Country\", self=variable_labels_TFRT)\n",
    "plt.show()"
   ]
  },
  {
   "cell_type": "code",
   "execution_count": null,
   "id": "2331e538",
   "metadata": {},
   "outputs": [],
   "source": [
    "variable_labels_IMRT = {\"SP.DYN.IMRT.IN\": \"Mortality Rate\"}"
   ]
  },
  {
   "cell_type": "code",
   "execution_count": null,
   "id": "8f95932c",
   "metadata": {},
   "outputs": [],
   "source": [
    "DYN_PSS_IMRT = wbdata.get_dataframe(variable_labels_IMRT, country=countries)\n",
    "print(DYN_PSS_IMRT)\n",
    "\n",
    "DYN_PSS_IMRT_cleaned = DYN_PSS_IMRT.dropna().reset_index()"
   ]
  },
  {
   "cell_type": "code",
   "execution_count": null,
   "id": "18da7379",
   "metadata": {},
   "outputs": [],
   "source": [
    "plt.figure(figsize=(12, 6))\n",
    "sea.histplot(\n",
    "    data=DYN_PSS_IMRT_cleaned, \n",
    "    x=\"Mortality Rate\", \n",
    "    hue=\"country\",  # Different colors for different countries\n",
    "    bins=15, \n",
    "    kde=True, \n",
    "    palette=\"tab10\",\n",
    "    alpha=0.7\n",
    ")\n",
    "\n",
    "# Customizing the plot\n",
    "plt.title(\"Distribution of Mortality Rates by Country\")\n",
    "plt.xlabel(\"Mortality Rate\")\n",
    "plt.ylabel(\"Weight\")\n",
    "plt.legend(title=\"Country\", label = variable_labels_IMRT)\n",
    "plt.show()"
   ]
  },
  {
   "cell_type": "code",
   "execution_count": null,
   "id": "37148849",
   "metadata": {},
   "outputs": [],
   "source": [
    "Q1 = np.nanpercentile(DYN_PSS_IMRT, 25)\n",
    "Q3 = np.nanpercentile(DYN_PSS_IMRT, 75)\n",
    "IQR = Q3 - Q1\n",
    "\n",
    "print(f\"IQR: {IQR}\")"
   ]
  },
  {
   "cell_type": "code",
   "execution_count": null,
   "id": "3576073a",
   "metadata": {},
   "outputs": [],
   "source": [
    "Q1 = np.nanpercentile(DYN_PSS_TFRT, 25)\n",
    "Q3 = np.nanpercentile(DYN_PSS_TFRT, 75)\n",
    "IQR = Q3 - Q1\n",
    "\n",
    "print(f\"IQR: {IQR}\")"
   ]
  },
  {
   "cell_type": "code",
   "execution_count": null,
   "id": "55aa6529",
   "metadata": {},
   "outputs": [],
   "source": [
    "%pip install plotly\n",
    "import plotly\n",
    "print(plotly.__version__)\n"
   ]
  }
 ],
 "metadata": {
  "kernelspec": {
   "display_name": "Python 3",
   "language": "python",
   "name": "python3"
  },
  "language_info": {
   "codemirror_mode": {
    "name": "ipython",
    "version": 3
   },
   "file_extension": ".py",
   "mimetype": "text/x-python",
   "name": "python",
   "nbconvert_exporter": "python",
   "pygments_lexer": "ipython3",
   "version": "3.9.13"
  }
 },
 "nbformat": 4,
 "nbformat_minor": 5
}
