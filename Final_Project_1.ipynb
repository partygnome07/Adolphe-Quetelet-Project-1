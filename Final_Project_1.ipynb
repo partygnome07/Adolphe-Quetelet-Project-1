{
 "cells": [
  {
   "cell_type": "markdown",
   "id": "759838a0-16a3-4cd4-9ad8-6b0ced73faff",
   "metadata": {},
   "source": [
    "# Project 1: Assessing Population Dynamics in Pacific Small Island Developing States"
   ]
  },
  {
   "cell_type": "markdown",
   "id": "94fac281-5d84-4279-b747-2a6869ee50c1",
   "metadata": {},
   "source": [
    "### Adolphe Quetelet - Evan Anderson, Laure Ho, Jakob Mackanych, Noah Mujica, and Rania Nasser\n",
    "#### EEP 153 - Population, Environment, and Development\n",
    "#### February 13th, 2025"
   ]
  },
  {
   "cell_type": "markdown",
   "id": "4971be8c-1949-4a85-8257-227a810b5420",
   "metadata": {},
   "source": [
    "Climate change will have far-reaching global consequences, however, in the near future, its impacts will perhaps be nowhere as pronounced and devastating as in the Pacific. \n",
    "\n",
    "According to a report by the World Meteorological Organization, \"A triple whammy of accelerating sea level rise, ocean warming and acidification is imperilling Pacific Islands, which face growing threats to their socioeconomic viability and indeed their very existence because of climate change\" (1). The IPCC identifies these nations as the most vulnerable places in the world to climate change (2).\n",
    "\n",
    "Pacific Small Island Developing States (PSIDS) or Pacific Small States (PSS) are a group of 14 developing nations: Cook Islands, Federated State of Micronesia, Fiji, Kiribati, Nauru, Niue, Palau, Papua New Guinea, Marshall Islands, Samoa, Solomon Islands, Tonga, Tuvalu, and Vanuatu (3). \n",
    "\n",
    "Increased severity of natural disasters and floods will have far-reaching impacts: agriculture, freshwater, tourism, industry, and ecosystems are and will further experience damages. Climate risk therefore poses safety and security risks to the people of PSS states (2).\n",
    "\n",
    "**How might population and development data illuminate the problems, risks, and patterns associated with climate impacts in the Pacific?**\n",
    "\n",
    "Using development data from the World Bank, we will see how climate change will impact these states and their population dynamics. We will also compare those dynamics to a developed nation."
   ]
  },
  {
   "cell_type": "markdown",
   "id": "b3080341-9c15-4ad3-9384-86719790eebf",
   "metadata": {},
   "source": [
    "![Example Image](https://static01.nyt.com/images/2023/11/11/multimedia/11oz-climate-vhpc/11oz-climate-vhpc-superJumbo.jpg)\n"
   ]
  },
  {
   "cell_type": "markdown",
   "id": "87d28379-4745-42c4-b29f-bbf6d20ec920",
   "metadata": {},
   "source": [
    "Tuvalu's narrow coastline is being eaten away by rising sea levels. Source: [The New York Times.](https://www.nytimes.com/2023/11/11/world/australia/tuvalu-climate.html)"
   ]
  },
  {
   "cell_type": "code",
   "execution_count": 20,
   "id": "3ee9ad2d-ceed-4254-8763-d169fbc52cf0",
   "metadata": {},
   "outputs": [
    {
     "name": "stdout",
     "output_type": "stream",
     "text": [
      "Requirement already satisfied: wbdata in /srv/conda/lib/python3.11/site-packages (1.0.0)\n",
      "Requirement already satisfied: appdirs<2.0,>=1.4 in /srv/conda/lib/python3.11/site-packages (from wbdata) (1.4.4)\n",
      "Requirement already satisfied: backoff<3.0.0,>=2.2.1 in /srv/conda/lib/python3.11/site-packages (from wbdata) (2.2.1)\n",
      "Requirement already satisfied: cachetools<6.0.0,>=5.3.2 in /srv/conda/lib/python3.11/site-packages (from wbdata) (5.5.1)\n",
      "Requirement already satisfied: dateparser<2.0.0,>=1.2.0 in /srv/conda/lib/python3.11/site-packages (from wbdata) (1.2.1)\n",
      "Requirement already satisfied: decorator<6.0.0,>=5.1.1 in /srv/conda/lib/python3.11/site-packages (from wbdata) (5.1.1)\n",
      "Requirement already satisfied: requests<3.0,>=2.0 in /srv/conda/lib/python3.11/site-packages (from wbdata) (2.32.3)\n",
      "Requirement already satisfied: shelved-cache<0.4.0,>=0.3.1 in /srv/conda/lib/python3.11/site-packages (from wbdata) (0.3.1)\n",
      "Requirement already satisfied: tabulate<0.9.0,>=0.8.5 in /srv/conda/lib/python3.11/site-packages (from wbdata) (0.8.10)\n",
      "Requirement already satisfied: python-dateutil>=2.7.0 in /srv/conda/lib/python3.11/site-packages (from dateparser<2.0.0,>=1.2.0->wbdata) (2.9.0.post0)\n",
      "Requirement already satisfied: pytz>=2024.2 in /srv/conda/lib/python3.11/site-packages (from dateparser<2.0.0,>=1.2.0->wbdata) (2025.1)\n",
      "Requirement already satisfied: regex!=2019.02.19,!=2021.8.27,>=2015.06.24 in /srv/conda/lib/python3.11/site-packages (from dateparser<2.0.0,>=1.2.0->wbdata) (2024.11.6)\n",
      "Requirement already satisfied: tzlocal>=0.2 in /srv/conda/lib/python3.11/site-packages (from dateparser<2.0.0,>=1.2.0->wbdata) (5.3)\n",
      "Requirement already satisfied: charset_normalizer<4,>=2 in /srv/conda/lib/python3.11/site-packages (from requests<3.0,>=2.0->wbdata) (3.4.0)\n",
      "Requirement already satisfied: idna<4,>=2.5 in /srv/conda/lib/python3.11/site-packages (from requests<3.0,>=2.0->wbdata) (3.10)\n",
      "Requirement already satisfied: urllib3<3,>=1.21.1 in /srv/conda/lib/python3.11/site-packages (from requests<3.0,>=2.0->wbdata) (2.3.0)\n",
      "Requirement already satisfied: certifi>=2017.4.17 in /srv/conda/lib/python3.11/site-packages (from requests<3.0,>=2.0->wbdata) (2024.12.14)\n",
      "Requirement already satisfied: six>=1.5 in /srv/conda/lib/python3.11/site-packages (from python-dateutil>=2.7.0->dateparser<2.0.0,>=1.2.0->wbdata) (1.17.0)\n",
      "Note: you may need to restart the kernel to use updated packages.\n",
      "Collecting iso3166\n",
      "  Downloading iso3166-2.1.1-py3-none-any.whl.metadata (6.6 kB)\n",
      "Downloading iso3166-2.1.1-py3-none-any.whl (9.8 kB)\n",
      "Installing collected packages: iso3166\n",
      "Successfully installed iso3166-2.1.1\n",
      "Note: you may need to restart the kernel to use updated packages.\n",
      "Collecting cufflinks\n",
      "  Downloading cufflinks-0.17.3.tar.gz (81 kB)\n",
      "  Preparing metadata (setup.py) ... \u001b[?25ldone\n",
      "\u001b[?25hRequirement already satisfied: numpy>=1.9.2 in /srv/conda/lib/python3.11/site-packages (from cufflinks) (2.2.3)\n",
      "Requirement already satisfied: pandas>=0.19.2 in /srv/conda/lib/python3.11/site-packages (from cufflinks) (2.2.3)\n",
      "Requirement already satisfied: plotly>=4.1.1 in /srv/conda/lib/python3.11/site-packages (from cufflinks) (6.0.0)\n",
      "Requirement already satisfied: six>=1.9.0 in /srv/conda/lib/python3.11/site-packages (from cufflinks) (1.17.0)\n",
      "Collecting colorlover>=0.2.1 (from cufflinks)\n",
      "  Downloading colorlover-0.3.0-py3-none-any.whl.metadata (421 bytes)\n",
      "Requirement already satisfied: setuptools>=34.4.1 in /srv/conda/lib/python3.11/site-packages (from cufflinks) (75.6.0)\n",
      "Requirement already satisfied: ipython>=5.3.0 in /srv/conda/lib/python3.11/site-packages (from cufflinks) (8.32.0)\n",
      "Requirement already satisfied: ipywidgets>=7.0.0 in /srv/conda/lib/python3.11/site-packages (from cufflinks) (8.1.5)\n",
      "Requirement already satisfied: decorator in /srv/conda/lib/python3.11/site-packages (from ipython>=5.3.0->cufflinks) (5.1.1)\n",
      "Requirement already satisfied: jedi>=0.16 in /srv/conda/lib/python3.11/site-packages (from ipython>=5.3.0->cufflinks) (0.19.2)\n",
      "Requirement already satisfied: matplotlib-inline in /srv/conda/lib/python3.11/site-packages (from ipython>=5.3.0->cufflinks) (0.1.7)\n",
      "Requirement already satisfied: pexpect>4.3 in /srv/conda/lib/python3.11/site-packages (from ipython>=5.3.0->cufflinks) (4.9.0)\n",
      "Requirement already satisfied: prompt_toolkit<3.1.0,>=3.0.41 in /srv/conda/lib/python3.11/site-packages (from ipython>=5.3.0->cufflinks) (3.0.50)\n",
      "Requirement already satisfied: pygments>=2.4.0 in /srv/conda/lib/python3.11/site-packages (from ipython>=5.3.0->cufflinks) (2.19.1)\n",
      "Requirement already satisfied: stack_data in /srv/conda/lib/python3.11/site-packages (from ipython>=5.3.0->cufflinks) (0.6.3)\n",
      "Requirement already satisfied: traitlets>=5.13.0 in /srv/conda/lib/python3.11/site-packages (from ipython>=5.3.0->cufflinks) (5.14.3)\n",
      "Requirement already satisfied: typing_extensions>=4.6 in /srv/conda/lib/python3.11/site-packages (from ipython>=5.3.0->cufflinks) (4.12.2)\n",
      "Requirement already satisfied: comm>=0.1.3 in /srv/conda/lib/python3.11/site-packages (from ipywidgets>=7.0.0->cufflinks) (0.2.2)\n",
      "Requirement already satisfied: widgetsnbextension~=4.0.12 in /srv/conda/lib/python3.11/site-packages (from ipywidgets>=7.0.0->cufflinks) (4.0.13)\n",
      "Requirement already satisfied: jupyterlab_widgets~=3.0.12 in /srv/conda/lib/python3.11/site-packages (from ipywidgets>=7.0.0->cufflinks) (3.0.13)\n",
      "Requirement already satisfied: python-dateutil>=2.8.2 in /srv/conda/lib/python3.11/site-packages (from pandas>=0.19.2->cufflinks) (2.9.0.post0)\n",
      "Requirement already satisfied: pytz>=2020.1 in /srv/conda/lib/python3.11/site-packages (from pandas>=0.19.2->cufflinks) (2025.1)\n",
      "Requirement already satisfied: tzdata>=2022.7 in /srv/conda/lib/python3.11/site-packages (from pandas>=0.19.2->cufflinks) (2025.1)\n",
      "Requirement already satisfied: narwhals>=1.15.1 in /srv/conda/lib/python3.11/site-packages (from plotly>=4.1.1->cufflinks) (1.26.0)\n",
      "Requirement already satisfied: packaging in /srv/conda/lib/python3.11/site-packages (from plotly>=4.1.1->cufflinks) (24.2)\n",
      "Requirement already satisfied: parso<0.9.0,>=0.8.4 in /srv/conda/lib/python3.11/site-packages (from jedi>=0.16->ipython>=5.3.0->cufflinks) (0.8.4)\n",
      "Requirement already satisfied: ptyprocess>=0.5 in /srv/conda/lib/python3.11/site-packages (from pexpect>4.3->ipython>=5.3.0->cufflinks) (0.7.0)\n",
      "Requirement already satisfied: wcwidth in /srv/conda/lib/python3.11/site-packages (from prompt_toolkit<3.1.0,>=3.0.41->ipython>=5.3.0->cufflinks) (0.2.13)\n",
      "Requirement already satisfied: executing>=1.2.0 in /srv/conda/lib/python3.11/site-packages (from stack_data->ipython>=5.3.0->cufflinks) (2.1.0)\n",
      "Requirement already satisfied: asttokens>=2.1.0 in /srv/conda/lib/python3.11/site-packages (from stack_data->ipython>=5.3.0->cufflinks) (3.0.0)\n",
      "Requirement already satisfied: pure_eval in /srv/conda/lib/python3.11/site-packages (from stack_data->ipython>=5.3.0->cufflinks) (0.2.3)\n",
      "Downloading colorlover-0.3.0-py3-none-any.whl (8.9 kB)\n",
      "Building wheels for collected packages: cufflinks\n",
      "  Building wheel for cufflinks (setup.py) ... \u001b[?25done\n",
      "\u001b[?25h  Created wheel for cufflinks: filename=cufflinks-0.17.3-py3-none-any.whl size=67896 sha256=88c799b5d88d5c0af027632ad90d2f5902e9f2ff4b365f7494d71c59f8168fbd\n",
      "  Stored in directory: /home/jovyan/.cache/pip/wheels/c3/bf/8f/afa0730b29e347e8c1071049f89748c1262e7a14a838820ae6\n",
      "Successfully built cufflinks\n",
      "Installing collected packages: colorlover, cufflinks\n",
      "Successfully installed colorlover-0.3.0 cufflinks-0.17.3\n",
      "Note: you may need to restart the kernel to use updated packages.\n",
      "Collecting eep153_tools\n",
      "  Using cached eep153_tools-0.12.4-py2.py3-none-any.whl.metadata (363 bytes)\n",
      "Using cached eep153_tools-0.12.4-py2.py3-none-any.whl (4.9 kB)\n",
      "Installing collected packages: eep153_tools\n",
      "Successfully installed eep153_tools-0.12.4\n",
      "Note: you may need to restart the kernel to use updated packages.\n",
      "Requirement already satisfied: plotly in /srv/conda/lib/python3.11/site-packages (6.0.0)\n",
      "Requirement already satisfied: narwhals>=1.15.1 in /srv/conda/lib/python3.11/site-packages (from plotly) (1.26.0)\n",
      "Requirement already satisfied: packaging in /srv/conda/lib/python3.11/site-packages (from plotly) (24.2)\n",
      "Note: you may need to restart the kernel to use updated packages.\n",
      "Requirement already satisfied: geodatasets in /srv/conda/lib/python3.11/site-packages (2024.8.0)\n",
      "Requirement already satisfied: pooch in /srv/conda/lib/python3.11/site-packages (from geodatasets) (1.8.2)\n",
      "Requirement already satisfied: platformdirs>=2.5.0 in /srv/conda/lib/python3.11/site-packages (from pooch->geodatasets) (4.3.6)\n",
      "Requirement already satisfied: packaging>=20.0 in /srv/conda/lib/python3.11/site-packages (from pooch->geodatasets) (24.2)\n",
      "Requirement already satisfied: requests>=2.19.0 in /srv/conda/lib/python3.11/site-packages (from pooch->geodatasets) (2.32.3)\n",
      "Requirement already satisfied: charset_normalizer<4,>=2 in /srv/conda/lib/python3.11/site-packages (from requests>=2.19.0->pooch->geodatasets) (3.4.0)\n",
      "Requirement already satisfied: idna<4,>=2.5 in /srv/conda/lib/python3.11/site-packages (from requests>=2.19.0->pooch->geodatasets) (3.10)\n",
      "Requirement already satisfied: urllib3<3,>=1.21.1 in /srv/conda/lib/python3.11/site-packages (from requests>=2.19.0->pooch->geodatasets) (2.3.0)\n",
      "Requirement already satisfied: certifi>=2017.4.17 in /srv/conda/lib/python3.11/site-packages (from requests>=2.19.0->pooch->geodatasets) (2024.12.14)\n",
      "Note: you may need to restart the kernel to use updated packages.\n",
      "Requirement already satisfied: geopandas in /srv/conda/lib/python3.11/site-packages (1.0.1)\n",
      "Requirement already satisfied: numpy>=1.22 in /srv/conda/lib/python3.11/site-packages (from geopandas) (2.2.3)\n",
      "Requirement already satisfied: pyogrio>=0.7.2 in /srv/conda/lib/python3.11/site-packages (from geopandas) (0.10.0)\n",
      "Requirement already satisfied: packaging in /srv/conda/lib/python3.11/site-packages (from geopandas) (24.2)\n",
      "Requirement already satisfied: pandas>=1.4.0 in /srv/conda/lib/python3.11/site-packages (from geopandas) (2.2.3)\n",
      "Requirement already satisfied: pyproj>=3.3.0 in /srv/conda/lib/python3.11/site-packages (from geopandas) (3.7.0)\n",
      "Requirement already satisfied: shapely>=2.0.0 in /srv/conda/lib/python3.11/site-packages (from geopandas) (2.0.7)\n",
      "Requirement already satisfied: python-dateutil>=2.8.2 in /srv/conda/lib/python3.11/site-packages (from pandas>=1.4.0->geopandas) (2.9.0.post0)\n",
      "Requirement already satisfied: pytz>=2020.1 in /srv/conda/lib/python3.11/site-packages (from pandas>=1.4.0->geopandas) (2025.1)\n",
      "Requirement already satisfied: tzdata>=2022.7 in /srv/conda/lib/python3.11/site-packages (from pandas>=1.4.0->geopandas) (2025.1)\n",
      "Requirement already satisfied: certifi in /srv/conda/lib/python3.11/site-packages (from pyogrio>=0.7.2->geopandas) (2024.12.14)\n",
      "Requirement already satisfied: six>=1.5 in /srv/conda/lib/python3.11/site-packages (from python-dateutil>=2.8.2->pandas>=1.4.0->geopandas) (1.17.0)\n",
      "Note: you may need to restart the kernel to use updated packages.\n",
      "Requirement already satisfied: wbdata in /srv/conda/lib/python3.11/site-packages (1.0.0)\n",
      "Requirement already satisfied: appdirs<2.0,>=1.4 in /srv/conda/lib/python3.11/site-packages (from wbdata) (1.4.4)\n",
      "Requirement already satisfied: backoff<3.0.0,>=2.2.1 in /srv/conda/lib/python3.11/site-packages (from wbdata) (2.2.1)\n",
      "Requirement already satisfied: cachetools<6.0.0,>=5.3.2 in /srv/conda/lib/python3.11/site-packages (from wbdata) (5.5.1)\n",
      "Requirement already satisfied: dateparser<2.0.0,>=1.2.0 in /srv/conda/lib/python3.11/site-packages (from wbdata) (1.2.1)\n",
      "Requirement already satisfied: decorator<6.0.0,>=5.1.1 in /srv/conda/lib/python3.11/site-packages (from wbdata) (5.1.1)\n",
      "Requirement already satisfied: requests<3.0,>=2.0 in /srv/conda/lib/python3.11/site-packages (from wbdata) (2.32.3)\n",
      "Requirement already satisfied: shelved-cache<0.4.0,>=0.3.1 in /srv/conda/lib/python3.11/site-packages (from wbdata) (0.3.1)\n",
      "Requirement already satisfied: tabulate<0.9.0,>=0.8.5 in /srv/conda/lib/python3.11/site-packages (from wbdata) (0.8.10)\n",
      "Requirement already satisfied: python-dateutil>=2.7.0 in /srv/conda/lib/python3.11/site-packages (from dateparser<2.0.0,>=1.2.0->wbdata) (2.9.0.post0)\n",
      "Requirement already satisfied: pytz>=2024.2 in /srv/conda/lib/python3.11/site-packages (from dateparser<2.0.0,>=1.2.0->wbdata) (2025.1)\n",
      "Requirement already satisfied: regex!=2019.02.19,!=2021.8.27,>=2015.06.24 in /srv/conda/lib/python3.11/site-packages (from dateparser<2.0.0,>=1.2.0->wbdata) (2024.11.6)\n",
      "Requirement already satisfied: tzlocal>=0.2 in /srv/conda/lib/python3.11/site-packages (from dateparser<2.0.0,>=1.2.0->wbdata) (5.3)\n",
      "Requirement already satisfied: charset_normalizer<4,>=2 in /srv/conda/lib/python3.11/site-packages (from requests<3.0,>=2.0->wbdata) (3.4.0)\n",
      "Requirement already satisfied: idna<4,>=2.5 in /srv/conda/lib/python3.11/site-packages (from requests<3.0,>=2.0->wbdata) (3.10)\n",
      "Requirement already satisfied: urllib3<3,>=1.21.1 in /srv/conda/lib/python3.11/site-packages (from requests<3.0,>=2.0->wbdata) (2.3.0)\n",
      "Requirement already satisfied: certifi>=2017.4.17 in /srv/conda/lib/python3.11/site-packages (from requests<3.0,>=2.0->wbdata) (2024.12.14)\n",
      "Requirement already satisfied: six>=1.5 in /srv/conda/lib/python3.11/site-packages (from python-dateutil>=2.7.0->dateparser<2.0.0,>=1.2.0->wbdata) (1.17.0)\n",
      "Note: you may need to restart the kernel to use updated packages.\n",
      "Requirement already satisfied: geodatasets in /srv/conda/lib/python3.11/site-packages (2024.8.0)\n",
      "Requirement already satisfied: pooch in /srv/conda/lib/python3.11/site-packages (from geodatasets) (1.8.2)\n",
      "Requirement already satisfied: platformdirs>=2.5.0 in /srv/conda/lib/python3.11/site-packages (from pooch->geodatasets) (4.3.6)\n",
      "Requirement already satisfied: packaging>=20.0 in /srv/conda/lib/python3.11/site-packages (from pooch->geodatasets) (24.2)\n",
      "Requirement already satisfied: requests>=2.19.0 in /srv/conda/lib/python3.11/site-packages (from pooch->geodatasets) (2.32.3)\n",
      "Requirement already satisfied: charset_normalizer<4,>=2 in /srv/conda/lib/python3.11/site-packages (from requests>=2.19.0->pooch->geodatasets) (3.4.0)\n",
      "Requirement already satisfied: idna<4,>=2.5 in /srv/conda/lib/python3.11/site-packages (from requests>=2.19.0->pooch->geodatasets) (3.10)\n",
      "Requirement already satisfied: urllib3<3,>=1.21.1 in /srv/conda/lib/python3.11/site-packages (from requests>=2.19.0->pooch->geodatasets) (2.3.0)\n",
      "Requirement already satisfied: certifi>=2017.4.17 in /srv/conda/lib/python3.11/site-packages (from requests>=2.19.0->pooch->geodatasets) (2024.12.14)\n",
      "Note: you may need to restart the kernel to use updated packages.\n"
     ]
    },
    {
     "data": {
      "text/html": [
       "        <script type=\"text/javascript\">\n",
       "        window.PlotlyConfig = {MathJaxConfig: 'local'};\n",
       "        if (window.MathJax && window.MathJax.Hub && window.MathJax.Hub.Config) {window.MathJax.Hub.Config({SVG: {font: \"STIX-Web\"}});}\n",
       "        </script>\n",
       "        <script type=\"module\">import \"https://cdn.plot.ly/plotly-3.0.0.min\"</script>\n",
       "        "
      ]
     },
     "metadata": {},
     "output_type": "display_data"
    }
   ],
   "source": [
    "%pip install wbdata\n",
    "%pip install iso3166\n",
    "%pip install cufflinks\n",
    "%pip install eep153_tools\n",
    "%pip install plotly\n",
    "%pip install geodatasets\n",
    "%pip install geopandas\n",
    "%pip install wbdata\n",
    "%pip install geodatasets\n",
    "\n",
    "import geodatasets\n",
    "import geopandas as gpd\n",
    "import wbdata\n",
    "import pandas as pd\n",
    "import math\n",
    "from datetime import datetime\n",
    "import iso3166\n",
    "import plotly.offline as py\n",
    "from scipy.optimize import newton\n",
    "import plotly.graph_objs as go\n",
    "import numpy as np\n",
    "import cufflinks as cf\n",
    "from matplotlib import animation as ani\n",
    "cf.go_offline()\n",
    "import geodatasets\n",
    "import geopandas as gpd\n",
    "from geodatasets import get_path\n",
    "import matplotlib.pyplot as plt\n",
    "import matplotlib.ticker as mticker"
   ]
  },
  {
   "cell_type": "markdown",
   "id": "0128e554-2016-47fa-b438-06600494e4d2",
   "metadata": {},
   "source": [
    "## Population Statistics Function"
   ]
  },
  {
   "cell_type": "markdown",
   "id": "781f3b2e-8fdc-45ea-9c5e-c44e8e2675c3",
   "metadata": {},
   "source": [
    "We begin by defining a function to easily access a population estimate given standard parameters."
   ]
  },
  {
   "cell_type": "code",
   "execution_count": null,
   "id": "8047c4e8-d5d5-47eb-964b-5a52d8f8750e",
   "metadata": {},
   "outputs": [],
   "source": [
    "#Match World Bank age ranges to a given sex\n",
    "def get_matching_indicators(age_range, sex):\n",
    "    age_ranges = [f\"{i:02d}{i+4:02d}\" for i in range(0, 80, 5)] + [\"80UP\"]\n",
    "    male_variables = {f\"SP.POP.{age}.MA\": f\"Males {age}\" for age in age_ranges}\n",
    "    female_variables = {f\"SP.POP.{age}.FE\": f\"Females {age}\" for age in age_ranges}\n",
    "\n",
    "    #Creates dictionary for sex variables\n",
    "    variables = male_variables.copy()\n",
    "    variables.update(female_variables)\n",
    "\n",
    "    #Matches age to given sex, and includes \"People\"\n",
    "    indicators = []\n",
    "    for age in age_helper(age_range):\n",
    "        if sex == \"People\":\n",
    "            indicators.append(f\"SP.POP.{age}.MA\")\n",
    "            indicators.append(f\"SP.POP.{age}.FE\")\n",
    "        elif sex == \"Males\":\n",
    "            indicators.append(f\"SP.POP.{age}.MA\")\n",
    "        elif sex == \"Females\":\n",
    "            indicators.append(f\"SP.POP.{age}.FE\")\n",
    "    return indicators\n",
    "\n",
    "#Converting given age range into World Bank ranges\n",
    "def age_helper(age_range):\n",
    "    lower_bound = 5 * (min(age_range) // 5)\n",
    "    upper_bound = 5 * round(max(age_range) // 5)\n",
    "    # To interpolate ages within a given age range, weigh the minimum and maximum given values out of the bins the World bank uses.\n",
    "    \n",
    "    age_groups = [\"{:02}{:02}\".format(i, i+4) for i in range(lower_bound, min(80, upper_bound+1), 5)]\n",
    "\n",
    "    if upper_bound >= 80:\n",
    "        age_groups.append(\"80UP\")\n",
    "\n",
    "        #80UP is a string that represents all ages above 80, which the World Bank groups into one large bin.\n",
    "\n",
    "    return age_groups\n",
    "\n",
    "#Create population function\n",
    "def population(year, sex, age_range, place):\n",
    "    current_year = datetime.now().year\n",
    "    if not (1960 <= year <= current_year):\n",
    "        raise ValueError(\"Please choose another year that is between 1960 and this year.\")\n",
    "    if sex not in [\"People\", \"Males\", \"Females\"]:\n",
    "        raise ValueError(\"Please choose from the following 3 options: 'People', 'Males', 'Females'\")\n",
    "\n",
    "        #If input value is outside of the possible criterea, return error message to fix arguments.\n",
    "\n",
    "    indicators = get_matching_indicators(age_range, sex)\n",
    "\n",
    "    try:\n",
    "        data = wbdata.get_dataframe({ind: ind for ind in indicators}, country = place, date = f\"{year}-01-01\")\n",
    "        if data is None or data.empty:\n",
    "            print(\"No available data.\")\n",
    "            return 0\n",
    "\n",
    "        #Create proportions for the age ranges\n",
    "        population_count = 0\n",
    "        for ind in indicators:\n",
    "            if not data[ind].isnull().iloc[0]:\n",
    "                age_group = ind.split(\".\")[2]\n",
    "                group_low = int(age_group[:2])\n",
    "\n",
    "                if \"UP\" in age_group:\n",
    "                    group_high = 200\n",
    "\n",
    "                    #More than the oldest person ever alive.\n",
    "                    \n",
    "                else:\n",
    "                    group_high = int(age_group[2:])\n",
    "\n",
    "                group_pop = data[ind].iloc[0]\n",
    "\n",
    "                overlap_low = max(group_low, age_range[0])\n",
    "                overlap_high = min(group_high, age_range[1])\n",
    "\n",
    "                pop_prop = (overlap_high - overlap_low + 1) / (group_high - group_low + 1)\n",
    "\n",
    "                population_count += group_pop * pop_prop\n",
    "\n",
    "        return int(population_count)\n",
    "        \n",
    "    except Exception as e:\n",
    "        print(f\"Error fetching requested data: {e}\")\n",
    "        return None\n",
    "\n",
    "print(population(2022, \"People\", (10, 24), \"USA\"))"
   ]
  },
  {
   "cell_type": "markdown",
   "id": "a0af6c8c-74e3-4fea-b00c-08dbd6438a28",
   "metadata": {},
   "source": [
    "### Unit Tests"
   ]
  },
  {
   "cell_type": "markdown",
   "id": "e7e812db-0dec-47dc-b25c-c86d92301712",
   "metadata": {},
   "source": [
    "The following tests are designed to double-check our population function with common-sense ideas."
   ]
  },
  {
   "cell_type": "code",
   "execution_count": null,
   "id": "c8e98eb4-aab1-431f-a1b2-655e1aad5d9f",
   "metadata": {},
   "outputs": [],
   "source": [
    "#This is what I will be testing\n",
    "print(population(2022, \"People\", (1, 100), \"USA\"))\n",
    "print(population(2000, \"Males\", (13, 27), \"AUS\"))\n",
    "print(population(1960, \"Females\", (20, 55), \"WLD\"))\n",
    "print(population(2022, \"People\", (1,100), \"PSS\"))\n",
    "\n",
    "# Unit Tests: Do\n",
    "# Numbers grapped from printed amounts above (control) against our population function. The asserted numbers are purposefully less than what should be reality.\n",
    "\n",
    "if __name__ == \"__main__\":\n",
    "    assert population(year=2022, sex='People', age_range=(1, 100), place='USA') > 300000000, \"Too few people!\"\n",
    "    assert population(year=2000, sex='Males', age_range=(13, 27), place='AUS') > 2000000, \"Too few males!\"\n",
    "    assert population(year=1960, sex='Females', age_range=(20, 55), place='WLD') > 650000000, \"Too few females!\"\n",
    "    assert population(year=2022, sex='People', age_range=(1, 100), place='PSS') > 2500000, \"Too few people!\"\n",
    "    print(\"All tests passed!\")"
   ]
  },
  {
   "cell_type": "markdown",
   "id": "4c3d096a-89a4-4e7e-ad84-d4dc5444f9ec",
   "metadata": {},
   "source": [
    "## Population Data Frames"
   ]
  },
  {
   "cell_type": "markdown",
   "id": "60fff7b1-1428-42b9-ab1d-3acc25c57042",
   "metadata": {},
   "source": [
    "A function that returns a pandas DataFrame indexed by Region or Country and Year, with columns giving counts of people in different age-sex groups."
   ]
  },
  {
   "cell_type": "code",
   "execution_count": null,
   "id": "471d1407-37b1-427c-9c3f-ba3dae6ffd74",
   "metadata": {},
   "outputs": [],
   "source": [
    "# Function to create a population DataFrame\n",
    "def get_population_data(year, variables, gender, place_code):\n",
    "    population_data = wbdata.get_dataframe(variables, country=place_code)\n",
    "    population_data.index = population_data.index.astype(int)\n",
    "    population_data.reset_index(inplace=True)\n",
    "    population_data = population_data[population_data['date'] == year].melt(\n",
    "        id_vars=[\"date\"], var_name=\"age\", value_name=gender\n",
    "    )\n",
    "    # Add place code \n",
    "    population_data['place'] = place_code\n",
    "    population_data.set_index(['place', 'date'], inplace=True)\n",
    "    return population_data\n",
    "\n",
    "def population_df(year, sex, age_range, place_code='WLD'):\n",
    "    age_ranges = age_helper(age_range)\n",
    "    male_variables = {\"SP.POP.\" + i + \".MA\": \"{}-{}\".format(i[:2], i[2:]) for i in age_ranges}\n",
    "    female_variables = {\"SP.POP.\" + i + \".FE\": \"{}-{}\".format(i[:2], i[2:]) for i in age_ranges}\n",
    "    \n",
    "    male_population = get_population_data(year, male_variables, 'male', place_code)\n",
    "    female_population = get_population_data(year, female_variables, 'female', place_code)\n",
    "    \n",
    "    # Merge data based on selected sex\n",
    "    if sex == 'male':\n",
    "        df = male_population\n",
    "    elif sex == 'female':\n",
    "        df = female_population\n",
    "    else:\n",
    "        # Combine male and female data for total population\n",
    "        df = male_population.merge(female_population, on=\"age\").set_axis(male_population.index)\n",
    "        df[\"total\"] = df[\"female\"] + df[\"male\"]\n",
    "    \n",
    "    return df"
   ]
  },
  {
   "cell_type": "code",
   "execution_count": null,
   "id": "02923eb6-0c08-4f8f-8390-b0c7e3f94535",
   "metadata": {},
   "outputs": [],
   "source": [
    "USA = population_df(year=(2020), sex='both', age_range=[0, 120], place_code='USA')\n",
    "\n",
    "column_sum = USA['total'].sum()\n",
    "int(column_sum)\n",
    "\n",
    "if __name__ == \"__main__\":\n",
    "    assert USA['total'].sum() > 250000000, \"Too few people!\"\n",
    "    print (\"Test passes\")\n",
    "\n",
    "#The USA should have more than 250 million people in 2020. If the total from dataframe is less than that, we've done something wrong."
   ]
  },
  {
   "cell_type": "code",
   "execution_count": null,
   "id": "ed29c4e0-ef9b-454d-8707-5df7eace800b",
   "metadata": {},
   "outputs": [],
   "source": [
    "#Unit tests\n",
    "\n",
    "## Kosovo did not exist in 1930 and should show no data.\n",
    "\n",
    "Kosovo = population_df(year=(1930), sex='People', age_range=[0, 120], place_code='XK')\n",
    "Kosovo"
   ]
  },
  {
   "cell_type": "code",
   "execution_count": null,
   "id": "3510a63f-8150-40cc-9442-407fdb85f25b",
   "metadata": {},
   "outputs": [],
   "source": [
    "# Now for the Pacific.\n",
    "\n",
    "population_df(year=(2020), sex='male', age_range=[0, 50], place_code='TUV')"
   ]
  },
  {
   "cell_type": "code",
   "execution_count": null,
   "id": "a2d6f81a-34eb-4eed-bd8f-555a67442d25",
   "metadata": {},
   "outputs": [],
   "source": [
    "population_df(year=(2020), sex='all', age_range=[0, 20], place_code='FJI')"
   ]
  },
  {
   "cell_type": "markdown",
   "id": "075d9950-91bd-4974-9a62-3084077926ff",
   "metadata": {},
   "source": [
    "## Population Pyramids"
   ]
  },
  {
   "cell_type": "markdown",
   "id": "a6a58825-6991-4b65-bff4-1879977fd963",
   "metadata": {},
   "source": [
    "Now we can visualize the populations of our countries of interest by age-sex groups. For simplicity, we will use the age-sex groups already defined by the World Bank."
   ]
  },
  {
   "cell_type": "code",
   "execution_count": null,
   "id": "36df9243-abf4-4710-9ae7-2f6f8bf0fa8d",
   "metadata": {},
   "outputs": [],
   "source": [
    "import matplotlib.pyplot as plt  # For plotting\n",
    "\n",
    "# Function to plot a population pyramid\n",
    "def plot_population_pyramid(df, place):\n",
    "    # Plotting population pyramid\n",
    "    age_groups = df['age']\n",
    "    fig, ax = plt.subplots(figsize=(10, 8))\n",
    "    # Horizontal bar plot for males (positive) and females (negative)\n",
    "    ax.barh(age_groups, df['male'], color='blue', label='Males')\n",
    "    ax.barh(age_groups, -df['female'], color='red', label='Females')\n",
    "    ax.set_xlabel('Population')\n",
    "    ax.set_ylabel('Age Groups')\n",
    "    ax.set_title(f'Population Pyramid for {place}')\n",
    "    ax.legend()\n",
    "    plt.show()"
   ]
  },
  {
   "cell_type": "code",
   "execution_count": null,
   "id": "fc7fb560-b8cb-43f7-b024-0693ca2a0938",
   "metadata": {},
   "outputs": [],
   "source": [
    "world_pop = population_df(year=2022, sex='all', age_range=(0, 80), place_code='PSS')\n",
    "plot_population_pyramid(world_pop, 'PSS')"
   ]
  },
  {
   "cell_type": "markdown",
   "id": "145e3b84-ede2-4afd-a072-1c3f7699658b",
   "metadata": {},
   "source": [
    "The Pacific Small Island States Population Pyramid has a triangular shape, indicating a growing young population and a declining older population. This suggests high birth rates, high mortality rates, and low short life expectancy. \n"
   ]
  },
  {
   "cell_type": "code",
   "execution_count": null,
   "id": "565cbbd0-1316-4549-84a6-b0f0c6ad038c",
   "metadata": {},
   "outputs": [],
   "source": [
    "world_pop = population_df(year=2000, sex='all', age_range=(0, 80), place_code='FJI')\n",
    "plot_population_pyramid(world_pop, 'FJI')"
   ]
  },
  {
   "cell_type": "markdown",
   "id": "6217e21a-e14d-4a60-9357-77a4235ae60a",
   "metadata": {},
   "source": [
    "Fiji's Population Pyramid also has a somewhat triangular shape, indicating a growing young population and working population alongside a gradually declining older population. This suggests high birth rates, moderate mortality rates, and a relatively short life expectancy."
   ]
  },
  {
   "cell_type": "code",
   "execution_count": null,
   "id": "cdb64d5b-af5c-4733-a38e-7548242ae964",
   "metadata": {},
   "outputs": [],
   "source": [
    "world_pop = population_df(year=2022, sex='all', age_range=(0, 80), place_code='NZL')\n",
    "plot_population_pyramid(world_pop, 'NZL')"
   ]
  },
  {
   "cell_type": "markdown",
   "id": "81e97016-6c64-4ed2-82f6-305eb70ea300",
   "metadata": {},
   "source": [
    "The New Zealand Population Pyramid is somewhat rectangular, indicating a strong working-age population (30-49) and a steady young population. However, while the older population is gradually declining, it remains significant, suggesting a longer life expectancy and low mortality rates. "
   ]
  },
  {
   "cell_type": "code",
   "execution_count": null,
   "id": "14750c2c-a0ef-4ccb-81cf-3d15701f51c1",
   "metadata": {},
   "outputs": [],
   "source": [
    "def plot_population_pyramid_over_time(years, place_code):\n",
    "    \"\"\"Plot population pyramids for multiple years on a single graph using Matplotlib.\"\"\"\n",
    "    fig, ax = plt.subplots(figsize=(10, 8))\n",
    "\n",
    "    colors = ['yellow', 'orange', 'red', 'brown']\n",
    "    for i, year in enumerate(years):\n",
    "       \n",
    "        df = population_df(year=year, sex='all', age_range=(0, 80), place_code=place_code)\n",
    "\n",
    "        # age groups\n",
    "        age_groups = df['age']\n",
    "\n",
    "        # Plot males (positive values)\n",
    "        ax.barh(age_groups, df['male'], color=colors[i], alpha=0.6, label=f'Males {year}')\n",
    "\n",
    "        # Plot females (negative values)\n",
    "        ax.barh(age_groups, -df['female'], color=colors[i], alpha=0.6, label=f'Females {year}')\n",
    "\n",
    "    # labels and titles\n",
    "    ax.set_xlabel('Population')\n",
    "    ax.set_ylabel('Age Groups')\n",
    "    ax.set_title(f'Population Pyramid Changes Over Time for {place_code}')\n",
    "    ax.legend()\n",
    "\n",
    "    plt.show()\n",
    "\n",
    "    return ax\n",
    "\n",
    "# Define years to visualize\n",
    "years = [2020, 2000, 1980, 1960]\n",
    "\n",
    "# Generate population pyramids for New Zealand over time\n",
    "ax = plot_population_pyramid_over_time(years, 'PSS')"
   ]
  },
  {
   "cell_type": "markdown",
   "id": "6c868454-219e-4176-9ef7-f4b6d297a732",
   "metadata": {},
   "source": [
    "The population pyramid for the Pacific Small Island States (PSS) has maintained a triangular shape over time, indicating consistently high birth rates and a youthful population. While there is a slight widening in older age groups, the overall structure suggests persistently high fertility rates, shorter life expectancy, and slower demographic transition compared to more developed nations."
   ]
  },
  {
   "cell_type": "code",
   "execution_count": null,
   "id": "532708c1-17c7-4da3-a508-1d20ba3a84a2",
   "metadata": {},
   "outputs": [],
   "source": [
    "plot_population_pyramid_over_time(years, 'FJI')"
   ]
  },
  {
   "cell_type": "markdown",
   "id": "79788600-46c3-4397-b497-eae0701b7691",
   "metadata": {},
   "source": [
    "Fiji’s population pyramid over time maintains a triangular shape, reflecting high birth rates and a growing young population. While there is some expansion in older age groups, the gradual narrowing suggests moderate improvements in life expectancy but a continued need for healthcare and aging support policies.\n"
   ]
  },
  {
   "cell_type": "code",
   "execution_count": null,
   "id": "aa362c79-1c7d-4dd6-97d6-064a470094de",
   "metadata": {},
   "outputs": [],
   "source": [
    "plot_population_pyramid_over_time(years, 'NZL')"
   ]
  },
  {
   "cell_type": "markdown",
   "id": "f898ddf5-afdf-42c7-9744-5519b4fd6cb6",
   "metadata": {},
   "source": [
    "New Zealand’s population pyramid over time shows a shift from a triangular to a more rectangular shape, indicating declining birth rates and an aging population. The expansion in older age groups and the narrowing at younger age groups suggest increased life expectancy, lower fertility rates, and a gradual demographic transition towards an aging society.\n"
   ]
  },
  {
   "cell_type": "markdown",
   "id": "960e3fd9-b7ef-491e-b5df-5b2c99c285e6",
   "metadata": {},
   "source": [
    "## Fertility and Mortality Rates"
   ]
  },
  {
   "cell_type": "markdown",
   "id": "9750ca08-80b1-4830-97a0-af03383aa2e8",
   "metadata": {},
   "source": [
    "### Fertility Rates"
   ]
  },
  {
   "cell_type": "code",
   "execution_count": null,
   "id": "0ecf1eac-ccf6-4a53-aace-58c11910ac15",
   "metadata": {},
   "outputs": [],
   "source": [
    "SOURCE1 = 14\n",
    "indicators = wbdata.get_indicators(source = SOURCE1)"
   ]
  },
  {
   "cell_type": "code",
   "execution_count": null,
   "id": "fcc27d72-bc5c-4ec7-a8d0-b139525f63c7",
   "metadata": {},
   "outputs": [],
   "source": [
    "variable_labels = {\"SP.POP.TOTL\":\"Population, Total\"}\n",
    "PSS_pop = wbdata.get_dataframe(variable_labels, country=\"PSS\",parse_dates=True)\n",
    "PSS_pop.head()"
   ]
  },
  {
   "cell_type": "code",
   "execution_count": null,
   "id": "74d0103e-e920-4391-99df-bc460566c672",
   "metadata": {},
   "outputs": [],
   "source": [
    "import seaborn as sea\n",
    "\n",
    "countries = [\"FJI\", \"SLB\", \"VUT\", \"WSM\", \"FSM\", \"KIR\", \"TON\", \"MHL\", \"PLW\", \"TUV\", \"NRU\"]\n",
    "\n",
    "variable_labels_TFRT = {\"SP.DYN.TFRT.IN\": \"Fertility Rate\"}\n",
    "\n",
    "DYN_PSS_TFRT = wbdata.get_dataframe(variable_labels_TFRT, country=countries)\n",
    "print(DYN_PSS_TFRT)\n",
    "\n",
    "DYN_PSS_TFRT_cleaned = DYN_PSS_TFRT.dropna().reset_index()"
   ]
  },
  {
   "cell_type": "code",
   "execution_count": null,
   "id": "1d283118-8876-45ae-9ce4-e361925c0649",
   "metadata": {},
   "outputs": [],
   "source": [
    "plt.figure(figsize=(12, 6))\n",
    "sea.histplot(\n",
    "    data=DYN_PSS_TFRT_cleaned, \n",
    "    x=\"Fertility Rate\", \n",
    "    hue=\"country\",  # Different colors for different countries\n",
    "    bins=15, \n",
    "    kde=True, \n",
    "    palette=\"tab10\",\n",
    "    alpha=0.7\n",
    ")\n",
    "\n",
    "# Customizing the plot\n",
    "plt.title(\"Distribution of Fertility Rates by Country\")\n",
    "plt.xlabel(\"Fertility Rate\")\n",
    "plt.ylabel(\"Weight\")\n",
    "plt.legend(title=\"Country\", self=variable_labels_TFRT)\n",
    "plt.show()"
   ]
  },
  {
   "cell_type": "markdown",
   "id": "79874660-cf8f-4da7-9b5f-1fa7c9b5b82c",
   "metadata": {},
   "source": [
    "### Distributed histogram - fertility\n",
    " - The bars represent the count (or frequency) of fertility rates within specific ranges (bins)\n",
    "\n",
    " - The height of each bar represents how many fertility rates fall into that range\n",
    "The lines overlaid on the bars represent key density estimate curves for each country.\n",
    "\n",
    " - KDE is used to estimate the probability distribution of fertility rates in a smooth, continuous way\n",
    "\n",
    " - Each country has a different color-coded KDE curve that shows the general distribution trend of fertility rates\n",
    "\n",
    "### Interpretation\n",
    " - There is a peak around 3 to 5 fertility rate, meaning many countries have fertility rates in this range\n",
    " - Some fertility rates extend beyond 7 to 8, but these are less common"
   ]
  },
  {
   "cell_type": "markdown",
   "id": "352463ef-50e3-406f-bcc9-8415b0e197e6",
   "metadata": {},
   "source": [
    "### Mortality Rates"
   ]
  },
  {
   "cell_type": "code",
   "execution_count": null,
   "id": "366f4ef8-243f-46ae-b5b2-37ea62715fdb",
   "metadata": {},
   "outputs": [],
   "source": [
    "variable_labels_IMRT = {\"SP.DYN.IMRT.IN\": \"Mortality Rate\"}\n",
    "\n",
    "DYN_PSS_IMRT = wbdata.get_dataframe(variable_labels_IMRT, country=countries)\n",
    "print(DYN_PSS_IMRT)\n",
    "\n",
    "DYN_PSS_IMRT_cleaned = DYN_PSS_IMRT.dropna().reset_index()"
   ]
  },
  {
   "cell_type": "code",
   "execution_count": null,
   "id": "cb94ff31-e491-48d0-9fd9-0c7da5ae4026",
   "metadata": {},
   "outputs": [],
   "source": [
    "plt.figure(figsize=(12, 6))\n",
    "sea.histplot(\n",
    "    data=DYN_PSS_IMRT_cleaned, \n",
    "    x=\"Mortality Rate\", \n",
    "    hue=\"country\",  # Different colors for different countries\n",
    "    bins=15, \n",
    "    kde=True, \n",
    "    palette=\"tab10\",\n",
    "    alpha=0.7\n",
    ")\n",
    "\n",
    "# Customizing the plot\n",
    "plt.title(\"Distribution of Mortality Rates by Country\")\n",
    "plt.xlabel(\"Mortality Rate\")\n",
    "plt.ylabel(\"Weight\")\n",
    "plt.legend(title=\"Country\", label = variable_labels_IMRT)\n",
    "plt.show()"
   ]
  },
  {
   "cell_type": "markdown",
   "id": "1318b4cd-33a5-42ac-a2b2-0d8f0fe7b5fc",
   "metadata": {},
   "source": [
    "### Distributed histogram - mortality\n",
    "The bars represent the count (or frequency) of mortality rates within specific ranges (bins)\n",
    "The height of each bar represents how many mortality rates fall into that range\n",
    "KDE is used to estimate the probability distribution of mortality rates in a smooth, continuous way\n",
    "Each country has a different color-coded KDE curve that shows the general distribution trend of mortality rates\n",
    "\n",
    "### Interpretation\n",
    "The peak near 20 suggests that many countries have relatively low mortality rates\n",
    "A long tail on the right suggests that a smaller number of countries have very high mortality rates \n"
   ]
  },
  {
   "cell_type": "code",
   "execution_count": null,
   "id": "70fd27b6-7c55-4c1a-8048-012f91b687cc",
   "metadata": {},
   "outputs": [],
   "source": [
    "Q1 = np.nanpercentile(DYN_PSS_IMRT, 25)\n",
    "Q3 = np.nanpercentile(DYN_PSS_IMRT, 75)\n",
    "IQR = Q3 - Q1\n",
    "\n",
    "print(f\"IQR: {IQR}\")"
   ]
  },
  {
   "cell_type": "code",
   "execution_count": null,
   "id": "d416cf18-14cc-4f85-9115-0da9f74d5482",
   "metadata": {},
   "outputs": [],
   "source": [
    "Q1 = np.nanpercentile(DYN_PSS_TFRT, 25)\n",
    "Q3 = np.nanpercentile(DYN_PSS_TFRT, 75)\n",
    "IQR = Q3 - Q1\n",
    "\n",
    "print(f\"IQR: {IQR}\")"
   ]
  },
  {
   "cell_type": "markdown",
   "id": "a84b48e4-f295-4a54-89a8-cc822bf46ce4",
   "metadata": {},
   "source": [
    "## Agricultural Supply"
   ]
  },
  {
   "cell_type": "code",
   "execution_count": null,
   "id": "555a49d8-210d-4603-b97e-30c7d1f7fc2b",
   "metadata": {},
   "outputs": [],
   "source": [
    "from matplotlib.ticker import ScalarFormatter\n",
    "\n",
    "#Plotting cereal production across various countries alongside their growth in population\n",
    "#We will compare the graphs to see if it follows Malthus' theory\n",
    "#We can also see how agricultural production differs across Pacific Island States\n",
    "pd.options.plotting.backend = 'plotly'\n",
    "\n",
    "#Create variables for Cereal Production and Population as a comparison\n",
    "variable_labels = {\n",
    "                \"AG.PRD.CREL.MT\":\"Cereal Production (Metric Tons)\",\n",
    "                   \"SP.POP.TOTL\":\"Total Population\"\n",
    "                  }\n",
    "\n",
    "#We used these countries because they are Islands in the Pacific with data that go back to 1965. New Zealand acts as our developed counterfactual.\n",
    "countries = [\"PSS\", \"FJI\", \"SLB\", \"NZL\"]\n",
    "\n",
    "#Create dataframe that includes necessary variables\n",
    "df1 = wbdata.get_dataframe(variable_labels, country = countries, parse_dates = True).dropna()\n",
    "\n",
    "#Create two series to display cereal production and population\n",
    "df1_cereal = df1[\"Cereal Production (Metric Tons)\"].unstack(level=\"country\").dropna()\n",
    "df1_pop = df1[\"Total Population\"].unstack(level=\"country\").dropna()\n",
    "\n",
    "pd.options.plotting.backend = 'matplotlib'\n",
    "\n",
    "#Plot individual country comparisons\n",
    "for country in df1_cereal.columns:\n",
    "    fig, ax1 = plt.subplots(figsize=(12, 6)) #Configure for aesthetics\n",
    "    ax2 = ax1.twinx()  #Create a second y-axis\n",
    "\n",
    "    df1_cereal[country].plot(ax=ax1, marker=\"o\", linewidth=2, label=\"Cereal Production\", color='blue')\n",
    "    df1_pop[country].plot(ax=ax2, marker=\"o\", linewidth=2, alpha=0.7, label=\"Total Population\", color='red')\n",
    "\n",
    "    ax1.set_title(f\"Cereal Production and Population in {country} Over Time\")\n",
    "    ax1.set_xlabel(\"Year\")\n",
    "    ax1.set_ylabel(\"Cereal Production (Metric Tons)\", color='blue')\n",
    "    ax2.set_ylabel(\"Total Population\", color='red')\n",
    "\n",
    "    #Get rid of scientific notation for each graph\n",
    "    ax1.yaxis.set_major_formatter(ScalarFormatter(useOffset=False))\n",
    "    ax1.ticklabel_format(style=\"plain\", axis=\"y\")\n",
    "    ax2.yaxis.set_major_formatter(ScalarFormatter(useOffset=False))\n",
    "    ax2.ticklabel_format(style=\"plain\", axis=\"y\")\n",
    "    \n",
    "    ax1.grid(True, linestyle=\"--\", alpha=0.5)\n",
    "\n",
    "    ax1.legend(loc=\"upper left\")\n",
    "    ax2.legend(loc=\"upper right\")\n",
    "\n",
    "    plt.show()"
   ]
  },
  {
   "cell_type": "markdown",
   "id": "eebc9bd6-7f60-4cce-b947-8fd027f2fb01",
   "metadata": {},
   "source": [
    "Cereal production across various Pacific Island States (Fiji, Solomon Islands), along with Pacific Islands accumulated, has generally decreased since 1990. At the same time, there has been a linear increase in population since the 60s. This directly contradicts Malthus' theory of geometric population versus arithmetic food growth: even when (at least domestic) food production in decreasing, population is increasing. Part of this phenomenon may be attributed to globalized food economies and import to the Pacific islands."
   ]
  },
  {
   "cell_type": "code",
   "execution_count": null,
   "id": "9a7be95e-7a30-40b9-81c2-5a2b12ed1905",
   "metadata": {},
   "outputs": [],
   "source": [
    "#Plot graphs for food production, crop production, and livestock for different states\n",
    "#Normalized to one year (2000)\n",
    "#Compare production across different countries\n",
    "\n",
    "#Set backend for initial data retrieval\n",
    "pd.options.plotting.backend = 'plotly'\n",
    "\n",
    "#Define necessary variables\n",
    "vars = {\n",
    "    \"AG.PRD.FOOD.XD\":\"Food Production\",\n",
    "    \"AG.PRD.CROP.XD\":\"Crop Production\",\n",
    "    \"AG.PRD.LVSK.XD\":\"Livestock Production\"\n",
    "}\n",
    "\n",
    "#Get countries with enough data for food, crop, and livestock indexes\n",
    "places = [\"AUS\", \"FJI\", \"SLB\"]\n",
    "\n",
    "#Retrieve new data\n",
    "df2 = wbdata.get_dataframe(vars, country=places, parse_dates=True).dropna()\n",
    "\n",
    "#Get 3 series\n",
    "df2_food = df2[\"Food Production\"].unstack(level=\"country\")\n",
    "df2_crop = df2[\"Crop Production\"].unstack(level=\"country\")\n",
    "df2_livestock = df2[\"Livestock Production\"].unstack(level=\"country\")\n",
    "\n",
    "#Normalize data to year 2000\n",
    "base_year = \"2000-01-01\" #Uses string as per dataframe\n",
    "\n",
    "def normalize(df2, base_year):\n",
    "    \"\"\"Normalize a dataframe by a base year.\"\"\"\n",
    "    if base_year in df2.index:\n",
    "        return df2 / df2.loc[base_year]\n",
    "    else:\n",
    "        print(f\"Warning: Base year {base_year} not found in dataset.\")\n",
    "        return df2\n",
    "\n",
    "#Create new series baseed on normalization\n",
    "df2_food_norm = normalize(df2_food, base_year)\n",
    "df2_crop_norm = normalize(df2_crop, base_year)\n",
    "df2_livestock_norm = normalize(df2_livestock, base_year)\n",
    "\n",
    "#Set backend for plotting\n",
    "pd.options.plotting.backend = 'matplotlib'\n",
    "\n",
    "#Plot raw vs normalized data\n",
    "fig, axes = plt.subplots(nrows=3, ncols=1, figsize=(22, 18))\n",
    "\n",
    "plot_titles = [\n",
    "    (\"Food Production Over Time\", df2_food_norm),\n",
    "    (\"Crop Production Over Time\", df2_crop_norm),\n",
    "    (\"Livestock Production Over Time\", df2_livestock_norm)\n",
    "]\n",
    "\n",
    "for i, (title, norm_data) in enumerate(plot_titles):\n",
    "  \n",
    "    #Normalized data plot\n",
    "    norm_data.plot(ax=axes[i], marker=\"o\", linewidth=2)\n",
    "    axes[i].set_title(f\"{title} (Normalized to 2000)\")\n",
    "    axes[i].set_xlabel(\"Year\")\n",
    "    axes[i].set_ylabel(f\"{title} (Relative to 2000)\")\n",
    "    axes[i].grid(True, linestyle=\"--\", alpha=0.5)\n",
    "    axes[i].legend(title=\"Country\", loc = \"upper right\")\n",
    "\n",
    "plt.tight_layout()\n",
    "plt.show()"
   ]
  },
  {
   "cell_type": "markdown",
   "id": "f40633ab-63cc-40ca-9edb-b0be1df7eb6f",
   "metadata": {},
   "source": [
    "Climate change is expected to have a significant impact on agriculture in these developing nations. Subsistence agriculture and cash-crop exports (bananas, sugar cane, etc) represent a large portion of island nations’ economies. Increased precipitation, strengthened cyclones, coastal flooding, and temperature variation are expected to harm soil fertility, destroy crops, and reduce near-shore fishing success."
   ]
  },
  {
   "cell_type": "markdown",
   "id": "8abfd532-a816-4802-a345-a3b27211ab61",
   "metadata": {},
   "source": [
    "## Geographic Visualizations with Geopandas"
   ]
  },
  {
   "cell_type": "code",
   "execution_count": 5,
   "id": "c38ae9ae",
   "metadata": {},
   "outputs": [],
   "source": [
    "SOURCE = 40 \n",
    "indicators = wbdata.get_indicators(source=SOURCE)\n",
    "#indicators"
   ]
  },
  {
   "cell_type": "code",
   "execution_count": 6,
   "id": "77ba015d",
   "metadata": {},
   "outputs": [
    {
     "data": {
      "text/html": [
       "<div>\n",
       "<style scoped>\n",
       "    .dataframe tbody tr th:only-of-type {\n",
       "        vertical-align: middle;\n",
       "    }\n",
       "\n",
       "    .dataframe tbody tr th {\n",
       "        vertical-align: top;\n",
       "    }\n",
       "\n",
       "    .dataframe thead th {\n",
       "        text-align: right;\n",
       "    }\n",
       "</style>\n",
       "<table border=\"1\" class=\"dataframe\">\n",
       "  <thead>\n",
       "    <tr style=\"text-align: right;\">\n",
       "      <th></th>\n",
       "      <th>country</th>\n",
       "      <th>date</th>\n",
       "      <th>Net Migration</th>\n",
       "      <th>ISO_A3</th>\n",
       "    </tr>\n",
       "  </thead>\n",
       "  <tbody>\n",
       "    <tr>\n",
       "      <th>0</th>\n",
       "      <td>Fiji</td>\n",
       "      <td>2023-01-01</td>\n",
       "      <td>-3289.0</td>\n",
       "      <td>FJI</td>\n",
       "    </tr>\n",
       "    <tr>\n",
       "      <th>1</th>\n",
       "      <td>Fiji</td>\n",
       "      <td>2022-01-01</td>\n",
       "      <td>-3557.0</td>\n",
       "      <td>FJI</td>\n",
       "    </tr>\n",
       "    <tr>\n",
       "      <th>2</th>\n",
       "      <td>Fiji</td>\n",
       "      <td>2021-01-01</td>\n",
       "      <td>-6008.0</td>\n",
       "      <td>FJI</td>\n",
       "    </tr>\n",
       "    <tr>\n",
       "      <th>3</th>\n",
       "      <td>Fiji</td>\n",
       "      <td>2020-01-01</td>\n",
       "      <td>-6008.0</td>\n",
       "      <td>FJI</td>\n",
       "    </tr>\n",
       "    <tr>\n",
       "      <th>4</th>\n",
       "      <td>Fiji</td>\n",
       "      <td>2019-01-01</td>\n",
       "      <td>-11873.0</td>\n",
       "      <td>FJI</td>\n",
       "    </tr>\n",
       "    <tr>\n",
       "      <th>...</th>\n",
       "      <td>...</td>\n",
       "      <td>...</td>\n",
       "      <td>...</td>\n",
       "      <td>...</td>\n",
       "    </tr>\n",
       "    <tr>\n",
       "      <th>187</th>\n",
       "      <td>Solomon Islands</td>\n",
       "      <td>1964-01-01</td>\n",
       "      <td>-1200.0</td>\n",
       "      <td>SLB</td>\n",
       "    </tr>\n",
       "    <tr>\n",
       "      <th>188</th>\n",
       "      <td>Solomon Islands</td>\n",
       "      <td>1963-01-01</td>\n",
       "      <td>-1129.0</td>\n",
       "      <td>SLB</td>\n",
       "    </tr>\n",
       "    <tr>\n",
       "      <th>189</th>\n",
       "      <td>Solomon Islands</td>\n",
       "      <td>1962-01-01</td>\n",
       "      <td>-1073.0</td>\n",
       "      <td>SLB</td>\n",
       "    </tr>\n",
       "    <tr>\n",
       "      <th>190</th>\n",
       "      <td>Solomon Islands</td>\n",
       "      <td>1961-01-01</td>\n",
       "      <td>-1016.0</td>\n",
       "      <td>SLB</td>\n",
       "    </tr>\n",
       "    <tr>\n",
       "      <th>191</th>\n",
       "      <td>Solomon Islands</td>\n",
       "      <td>1960-01-01</td>\n",
       "      <td>-917.0</td>\n",
       "      <td>SLB</td>\n",
       "    </tr>\n",
       "  </tbody>\n",
       "</table>\n",
       "<p>192 rows × 4 columns</p>\n",
       "</div>"
      ],
      "text/plain": [
       "             country       date  Net Migration ISO_A3\n",
       "0               Fiji 2023-01-01        -3289.0    FJI\n",
       "1               Fiji 2022-01-01        -3557.0    FJI\n",
       "2               Fiji 2021-01-01        -6008.0    FJI\n",
       "3               Fiji 2020-01-01        -6008.0    FJI\n",
       "4               Fiji 2019-01-01       -11873.0    FJI\n",
       "..               ...        ...            ...    ...\n",
       "187  Solomon Islands 1964-01-01        -1200.0    SLB\n",
       "188  Solomon Islands 1963-01-01        -1129.0    SLB\n",
       "189  Solomon Islands 1962-01-01        -1073.0    SLB\n",
       "190  Solomon Islands 1961-01-01        -1016.0    SLB\n",
       "191  Solomon Islands 1960-01-01         -917.0    SLB\n",
       "\n",
       "[192 rows x 4 columns]"
      ]
     },
     "execution_count": 6,
     "metadata": {},
     "output_type": "execute_result"
    }
   ],
   "source": [
    "variable_labels = {\"SM.POP.NETM\":\"Net Migration\"}\n",
    "country_mapping = {\"NZL\":\"New Zealand\", \"FJI\": \"Fiji\", \"SLB\":\"Solomon Islands\"}\n",
    "df = wbdata.get_dataframe(variable_labels, country=list(country_mapping.keys()), parse_dates=True)\n",
    "df = df.reset_index()\n",
    "df[\"ISO_A3\"] = df[\"country\"].map({v: k for k, v in country_mapping.items()})\n",
    "df"
   ]
  },
  {
   "cell_type": "code",
   "execution_count": 7,
   "id": "750d832d",
   "metadata": {},
   "outputs": [],
   "source": [
    "countries = [c['id'] for c in wbdata.get_countries()]"
   ]
  },
  {
   "cell_type": "code",
   "execution_count": 8,
   "id": "7165fafa",
   "metadata": {},
   "outputs": [
    {
     "name": "stderr",
     "output_type": "stream",
     "text": [
      "ERROR 1: PROJ: proj_create_from_database: Open of /srv/conda/share/proj failed\n"
     ]
    }
   ],
   "source": [
    "shapefile_path = \"/home/jovyan/Project 1/ne_110m_admin_0_countries/ne_110m_admin_0_countries.shp\"\n",
    "\n",
    "gdf = gpd.read_file(shapefile_path)"
   ]
  },
  {
   "cell_type": "code",
   "execution_count": 9,
   "id": "fa243d00-f9c9-4213-9a07-0d2185bb19be",
   "metadata": {},
   "outputs": [],
   "source": [
    "df.reset_index(inplace=True)"
   ]
  },
  {
   "cell_type": "code",
   "execution_count": 10,
   "id": "a7b67ce0-7c9e-4045-9181-828f7e927a6a",
   "metadata": {},
   "outputs": [],
   "source": [
    "wb_countries = wbdata.get_countries()\n",
    "\n",
    "matching_columns = [col for col in gdf.columns if \"ISO\" in col]"
   ]
  },
  {
   "cell_type": "code",
   "execution_count": 11,
   "id": "81dc41a6-1bcf-4015-ac07-6dc38285f1bc",
   "metadata": {},
   "outputs": [],
   "source": [
    "merged_gdf = gdf.merge(df, on=\"ISO_A3\", how=\"left\")"
   ]
  },
  {
   "cell_type": "code",
   "execution_count": 12,
   "id": "f029daa0-9328-4edc-b2dc-350e614bc2df",
   "metadata": {},
   "outputs": [
    {
     "data": {
      "image/png": "[encoded data removed]",
      "text/plain": [
       "<Figure size 1000x800 with 2 Axes>"
      ]
     },
     "metadata": {},
     "output_type": "display_data"
    }
   ],
   "source": [
    "fig, ax = plt.subplots(figsize=(10, 8))\n",
    "\n",
    "vmin = merged_gdf[\"Net Migration\"].min()\n",
    "vmax = merged_gdf[\"Net Migration\"].max()\n",
    "\n",
    "scaling_factor = 0.25\n",
    "vmin, vmax = vmin * scaling_factor, vmax * scaling_factor \n",
    "\n",
    "merged_gdf.plot(column=\"Net Migration\", cmap=\"RdYlBu\", linewidth=0.5, edgecolor=\"black\",\n",
    "                         legend=True, legend_kwds={\"label\": \"Number of People\", \"orientation\": \"horizontal\"}, ax=ax,\n",
    "               vmin=vmin, vmax=vmax\n",
    "               )\n",
    "\n",
    "ax.set_xticks([])\n",
    "ax.set_yticks([])\n",
    "ax.set_frame_on(False)\n",
    "ax.axis(\"off\")\n",
    "\n",
    "ax.set_xlim([160, 180]) \n",
    "ax.set_ylim([-50, 0])\n",
    "ax.set_title(\"Net Migration\", fontsize=14, fontweight=\"bold\")\n",
    "\n",
    "for idx, row in merged_gdf.iterrows():\n",
    "    country_name = row[\"SOVEREIGNT\"]\n",
    "    if isinstance(country_name, str) and not pd.isna(row[\"Net Migration\"]):\n",
    "        ax.annotate(\n",
    "            text=country_name,\n",
    "            xy=(row.geometry.centroid.x, row.geometry.centroid.y),\n",
    "            xytext=(3, 3),\n",
    "            textcoords=\"offset points\",\n",
    "            fontsize=6,\n",
    "            ha='center'\n",
    "        )\n",
    "\n",
    "cbar = ax.get_figure().axes[-1]\n",
    "cbar.xaxis.set_major_formatter(mticker.FuncFormatter(lambda x, _: f\"{int(x):,}\"))\n",
    "\n",
    "plt.show()"
   ]
  },
  {
   "cell_type": "markdown",
   "id": "9ff14c26-39d6-4e64-bd4b-17da7d5ca02d",
   "metadata": {},
   "source": [
    "This visualization shows the net migration of three of our countries of interest. Through this visualization we can notice that islands who face a higher threat to climate change and sea level rise also contain a higher rate of net migration out of their countries. This negative net migration could be a result a other factors including economic opportunities or other factors. New Zealand contains a positive migration showing that more people were moving to this region than leaving in through 1960s and 2023. While the Solomon Islands and Fiji realized a negative net migration around -2,000 over this same time period."
   ]
  },
  {
   "cell_type": "code",
   "execution_count": 13,
   "id": "e6ced506-4928-46f0-8adb-59d0014fa1ae",
   "metadata": {},
   "outputs": [
    {
     "data": {
      "text/html": [
       "<div>\n",
       "<style scoped>\n",
       "    .dataframe tbody tr th:only-of-type {\n",
       "        vertical-align: middle;\n",
       "    }\n",
       "\n",
       "    .dataframe tbody tr th {\n",
       "        vertical-align: top;\n",
       "    }\n",
       "\n",
       "    .dataframe thead th {\n",
       "        text-align: right;\n",
       "    }\n",
       "</style>\n",
       "<table border=\"1\" class=\"dataframe\">\n",
       "  <thead>\n",
       "    <tr style=\"text-align: right;\">\n",
       "      <th></th>\n",
       "      <th>country</th>\n",
       "      <th>date</th>\n",
       "      <th>Total Life Expectancy</th>\n",
       "      <th>ISO_A3</th>\n",
       "    </tr>\n",
       "  </thead>\n",
       "  <tbody>\n",
       "    <tr>\n",
       "      <th>0</th>\n",
       "      <td>Fiji</td>\n",
       "      <td>2023-01-01</td>\n",
       "      <td>NaN</td>\n",
       "      <td>FJI</td>\n",
       "    </tr>\n",
       "    <tr>\n",
       "      <th>1</th>\n",
       "      <td>Fiji</td>\n",
       "      <td>2022-01-01</td>\n",
       "      <td>68.312</td>\n",
       "      <td>FJI</td>\n",
       "    </tr>\n",
       "    <tr>\n",
       "      <th>2</th>\n",
       "      <td>Fiji</td>\n",
       "      <td>2021-01-01</td>\n",
       "      <td>67.114</td>\n",
       "      <td>FJI</td>\n",
       "    </tr>\n",
       "    <tr>\n",
       "      <th>3</th>\n",
       "      <td>Fiji</td>\n",
       "      <td>2020-01-01</td>\n",
       "      <td>67.924</td>\n",
       "      <td>FJI</td>\n",
       "    </tr>\n",
       "    <tr>\n",
       "      <th>4</th>\n",
       "      <td>Fiji</td>\n",
       "      <td>2019-01-01</td>\n",
       "      <td>67.893</td>\n",
       "      <td>FJI</td>\n",
       "    </tr>\n",
       "    <tr>\n",
       "      <th>...</th>\n",
       "      <td>...</td>\n",
       "      <td>...</td>\n",
       "      <td>...</td>\n",
       "      <td>...</td>\n",
       "    </tr>\n",
       "    <tr>\n",
       "      <th>187</th>\n",
       "      <td>Solomon Islands</td>\n",
       "      <td>1964-01-01</td>\n",
       "      <td>50.859</td>\n",
       "      <td>SLB</td>\n",
       "    </tr>\n",
       "    <tr>\n",
       "      <th>188</th>\n",
       "      <td>Solomon Islands</td>\n",
       "      <td>1963-01-01</td>\n",
       "      <td>50.049</td>\n",
       "      <td>SLB</td>\n",
       "    </tr>\n",
       "    <tr>\n",
       "      <th>189</th>\n",
       "      <td>Solomon Islands</td>\n",
       "      <td>1962-01-01</td>\n",
       "      <td>49.254</td>\n",
       "      <td>SLB</td>\n",
       "    </tr>\n",
       "    <tr>\n",
       "      <th>190</th>\n",
       "      <td>Solomon Islands</td>\n",
       "      <td>1961-01-01</td>\n",
       "      <td>48.434</td>\n",
       "      <td>SLB</td>\n",
       "    </tr>\n",
       "    <tr>\n",
       "      <th>191</th>\n",
       "      <td>Solomon Islands</td>\n",
       "      <td>1960-01-01</td>\n",
       "      <td>47.741</td>\n",
       "      <td>SLB</td>\n",
       "    </tr>\n",
       "  </tbody>\n",
       "</table>\n",
       "<p>192 rows × 4 columns</p>\n",
       "</div>"
      ],
      "text/plain": [
       "             country       date  Total Life Expectancy ISO_A3\n",
       "0               Fiji 2023-01-01                    NaN    FJI\n",
       "1               Fiji 2022-01-01                 68.312    FJI\n",
       "2               Fiji 2021-01-01                 67.114    FJI\n",
       "3               Fiji 2020-01-01                 67.924    FJI\n",
       "4               Fiji 2019-01-01                 67.893    FJI\n",
       "..               ...        ...                    ...    ...\n",
       "187  Solomon Islands 1964-01-01                 50.859    SLB\n",
       "188  Solomon Islands 1963-01-01                 50.049    SLB\n",
       "189  Solomon Islands 1962-01-01                 49.254    SLB\n",
       "190  Solomon Islands 1961-01-01                 48.434    SLB\n",
       "191  Solomon Islands 1960-01-01                 47.741    SLB\n",
       "\n",
       "[192 rows x 4 columns]"
      ]
     },
     "execution_count": 13,
     "metadata": {},
     "output_type": "execute_result"
    }
   ],
   "source": [
    "variable_labels = {\"SP.DYN.LE00.IN\":\"Total Life Expectancy\"}\n",
    "country_mapping = {\"NZL\":\"New Zealand\", \"FJI\": \"Fiji\", \"SLB\":\"Solomon Islands\"}\n",
    "df = wbdata.get_dataframe(variable_labels, country=list(country_mapping.keys()), parse_dates=True)\n",
    "df = df.reset_index()\n",
    "df[\"ISO_A3\"] = df[\"country\"].map({v: k for k, v in country_mapping.items()})\n",
    "df"
   ]
  },
  {
   "cell_type": "code",
   "execution_count": 14,
   "id": "e2943e53-cba4-4aa4-be47-a9a69007cbfc",
   "metadata": {},
   "outputs": [],
   "source": [
    "countries = [c['id'] for c in wbdata.get_countries()]"
   ]
  },
  {
   "cell_type": "code",
   "execution_count": 15,
   "id": "70594818-f816-45bf-afc3-1144f7e1abf4",
   "metadata": {},
   "outputs": [],
   "source": [
    "shapefile_path = \"/home/jovyan/Project 1/ne_110m_admin_0_countries/ne_110m_admin_0_countries.shp\"\n",
    "\n",
    "gdf = gpd.read_file(shapefile_path)"
   ]
  },
  {
   "cell_type": "code",
   "execution_count": 16,
   "id": "72638fe2-5833-4595-8db8-f64a65782abf",
   "metadata": {},
   "outputs": [],
   "source": [
    "df.reset_index(inplace=True)"
   ]
  },
  {
   "cell_type": "code",
   "execution_count": 17,
   "id": "13c85e9d-59e9-46f7-af8d-dd928d54b5ae",
   "metadata": {},
   "outputs": [],
   "source": [
    "wb_countries = wbdata.get_countries()\n",
    "\n",
    "matching_columns = [col for col in gdf.columns if \"ISO\" in col] "
   ]
  },
  {
   "cell_type": "code",
   "execution_count": 18,
   "id": "92706b90-cd9e-4639-b18d-36db80da62ad",
   "metadata": {},
   "outputs": [],
   "source": [
    "merged_gdf = gdf.merge(df, on=\"ISO_A3\", how=\"left\")"
   ]
  },
  {
   "cell_type": "code",
   "execution_count": 19,
   "id": "02c4d8c5-df9c-4289-b9ac-2a581cfc3762",
   "metadata": {},
   "outputs": [
    {
     "data": {
      "image/png": "[encoded data removed]",
      "text/plain": [
       "<Figure size 1000x800 with 2 Axes>"
      ]
     },
     "metadata": {},
     "output_type": "display_data"
    }
   ],
   "source": [
    "fig, ax = plt.subplots(figsize=(10, 8))\n",
    "\n",
    "vmin = merged_gdf[\"Total Life Expectancy\"].min()\n",
    "vmax = merged_gdf[\"Total Life Expectancy\"].max()\n",
    "abs_max = max(abs(vmin), abs(vmax)) \n",
    "vmin, vmax = -abs_max+abs_max, abs_max\n",
    "\n",
    "merged_gdf.plot(column=\"Total Life Expectancy\", cmap=\"RdYlBu\", linewidth=0.5, edgecolor=\"black\",\n",
    "                         legend=True, legend_kwds={\"label\": \"Years\", \"orientation\": \"horizontal\"}, ax=ax,\n",
    "               vmin=vmin, vmax=vmax\n",
    "               )\n",
    "\n",
    "ax.set_xticks([])  \n",
    "ax.set_yticks([])  \n",
    "ax.set_frame_on(False) \n",
    "ax.axis(\"off\")\n",
    "\n",
    "ax.set_xlim([140, 200])\n",
    "ax.set_ylim([-50, 0])\n",
    "ax.set_title(\"Life Expectancy\", fontsize=14, fontweight=\"bold\")\n",
    "\n",
    "for idx, row in merged_gdf.iterrows():\n",
    "    country_name = row[\"SOVEREIGNT\"]\n",
    "    if isinstance(country_name, str) and not pd.isna(row[\"Total Life Expectancy\"]):\n",
    "        ax.annotate(\n",
    "            text=country_name,\n",
    "            xy=(row.geometry.centroid.x, row.geometry.centroid.y),\n",
    "            xytext=(3, 3),\n",
    "            textcoords=\"offset points\",\n",
    "            fontsize=6,\n",
    "            ha='center'\n",
    "        )\n",
    "\n",
    "cbar = ax.get_figure().axes[-1]\n",
    "cbar.xaxis.set_major_formatter(mticker.FuncFormatter(lambda x, _: f\"{int(x):,}\"))\n",
    "\n",
    "plt.show()"
   ]
  },
  {
   "cell_type": "markdown",
   "id": "68c771b8-3cd2-4e15-b4dd-5bbeff7e74f4",
   "metadata": {},
   "source": [
    "This visualization shows the average life expectancy of our key areas of interest among Pacific Island nations. We can notice from this visualization that New Zealand has the highest life expectancy of all of the nations around 70 years. Among our countries of interest those with a negative migration also have a lower life expectancy. The Solomon Islands and Fiji have a lower life expectancy around 55 years on average. As the Solomon Islands and Fiji are more susceptible to climate change over time this could be one of the reasons that life expectancy is also lower in these regions among other things like healthcare access and education. As New Zealand is more resilient to the effects of climate change it does not greatly affect their life expectancy.\n"
   ]
  },
  {
   "cell_type": "markdown",
   "id": "979ab117-1544-41fc-9149-1e4e7830b805",
   "metadata": {},
   "source": [
    "## Conclusions"
   ]
  },
  {
   "cell_type": "markdown",
   "id": "8a83ca4f-c215-4289-b029-15816fee0249",
   "metadata": {},
   "source": [
    " - Despite climate risk, PSS nations are experiencing upward population growth consistent with other developing countries.\n",
    "\n",
    " - Steep population pyramids, high fertility rates, low mortality rates\n",
    " - Population growth is slowing in these nations.\n",
    " - The population growth between 1980, 2000, and 2010 is narrowing: see the population pyramid!\n",
    " - Agricultural productivity in these nations has dramatically declined, and we don’t expect them to increase\n",
    "   - Even though population has increased. This is likely because of more imports.\n"
   ]
  },
  {
   "cell_type": "markdown",
   "id": "e83f76df-86f7-4685-8f1d-cf4214d1fb79",
   "metadata": {},
   "source": [
    "# Thank you!"
   ]
  },
  {
   "cell_type": "markdown",
   "id": "f72b6507-07aa-4399-b872-f5acc0c34e85",
   "metadata": {},
   "source": [
    "## Citations"
   ]
  },
  {
   "cell_type": "markdown",
   "id": "f873c0af-82dd-44b6-b696-63382a0fa903",
   "metadata": {},
   "source": [
    "1) https://wmo.int/news/media-centre/climate-change-transforms-pacific-islands#:~:text=A%20triple%20whammy%20of%20accelerating,existence%20because%20of%20climate%20change."
   ]
  },
  {
   "cell_type": "markdown",
   "id": "d9de6e2b-60b9-47eb-8ffe-49b0a06f6ee9",
   "metadata": {},
   "source": [
    "2. https://research.fit.edu/media/site-specific/researchfitedu/coast-climate-adaptation-library/pacific-islands/micronesia/IFAD.--CC-Impacts.pdf"
   ]
  },
  {
   "cell_type": "markdown",
   "id": "fe29ecf5-172c-4a9a-ad10-9590b71fce53",
   "metadata": {},
   "source": [
    "3) https://sdgs.un.org/statements/pacific-small-island-developing-states-psids-11347"
   ]
  },
  {
   "cell_type": "markdown",
   "id": "d10058c0-0ddd-4eac-b9e5-81a6b7bde087",
   "metadata": {},
   "source": [
    "All population data from World Bank Data. [Link](https://databank.worldbank.org/source/world-development-indicators)\n",
    "."
   ]
  }
 ],
 "metadata": {
  "kernelspec": {
   "display_name": "Python 3 (ipykernel)",
   "language": "python",
   "name": "python3"
  },
  "language_info": {
   "codemirror_mode": {
    "name": "ipython",
    "version": 3
   },
   "file_extension": ".py",
   "mimetype": "text/x-python",
   "name": "python",
   "nbconvert_exporter": "python",
   "pygments_lexer": "ipython3",
   "version": "3.11.11"
  }
 },
 "nbformat": 4,
 "nbformat_minor": 5
}
