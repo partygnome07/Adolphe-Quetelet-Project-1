{
 "cells": [
  {
   "cell_type": "markdown",
   "id": "759838a0-16a3-4cd4-9ad8-6b0ced73faff",
   "metadata": {},
   "source": [
    "# Final Project 1: Assessing Population Dynamics in Pacific Small Island Developing States"
   ]
  },
  {
   "cell_type": "markdown",
   "id": "94fac281-5d84-4279-b747-2a6869ee50c1",
   "metadata": {},
   "source": [
    "### Adolphe Quetelet - Evan Anderson, Laure Ho, Jakob Mackanych, Noah Mujica, and Rania Nasser\n",
    "#### EEP 153 - Population, Environment, and Development\n",
    "#### February 11th 2025"
   ]
  },
  {
   "cell_type": "markdown",
   "id": "4971be8c-1949-4a85-8257-227a810b5420",
   "metadata": {},
   "source": [
    "Climate change will have far-reaching global consequences, however, in the near future, its impacts will perhaps be nowhere as pronounced and devastating as in the Pacific. \n",
    "\n",
    "According to a report by the World Meteorological Organization, \"A triple whammy of accelerating sea level rise, ocean warming and acidification is imperilling Pacific Islands, which face growing threats to their socioeconomic viability and indeed their very existence because of climate change\" (1). The IPCC identifies these nations as the most vulnerable places in the world to climate change (2).\n",
    "\n",
    "Pacific Small Island Developing States (PSIDS) or Pacific Small States (PSS) are a group of 14 developing nations: Cook Islands, Federated State of Micronesia, Fiji, Kiribati, Nauru, Niue, Palau, Papua New Guinea, Marshall Islands, Samoa, Solomon Islands, Tonga, Tuvalu, and Vanuatu (3). \n",
    "\n",
    "Increased severity of natural disasters and floods will have far-reaching impacts: agriculture, freshwater, tourism, industry, and ecosystems are and will further experience damages. Climate risk therefore poses safety and security risks to the people of PSS states (2).\n",
    "\n",
    "**How might population and development data illuminate the problems, risks, and patterns associated with climate impacts in the Pacific?**\n",
    "\n",
    "Using development data from the World Bank, we will see how climate change will impact these states and their population dynamics. We will also compare those dynamics to a developed nation."
   ]
  },
  {
   "cell_type": "markdown",
   "id": "0128e554-2016-47fa-b438-06600494e4d2",
   "metadata": {},
   "source": [
    "## Population Statistics Function"
   ]
  },
  {
   "cell_type": "markdown",
   "id": "781f3b2e-8fdc-45ea-9c5e-c44e8e2675c3",
   "metadata": {},
   "source": [
    "We begin by defining a function to easily access a population estimate given standard parameters."
   ]
  },
  {
   "cell_type": "code",
   "execution_count": null,
   "id": "8047c4e8-d5d5-47eb-964b-5a52d8f8750e",
   "metadata": {},
   "outputs": [],
   "source": []
  },
  {
   "cell_type": "markdown",
   "id": "a0af6c8c-74e3-4fea-b00c-08dbd6438a28",
   "metadata": {},
   "source": [
    "### Unit Tests"
   ]
  },
  {
   "cell_type": "markdown",
   "id": "e7e812db-0dec-47dc-b25c-c86d92301712",
   "metadata": {},
   "source": [
    "The following tests are designed to double-check our population function with common-sense ideas."
   ]
  },
  {
   "cell_type": "markdown",
   "id": "4c3d096a-89a4-4e7e-ad84-d4dc5444f9ec",
   "metadata": {},
   "source": [
    "## Population Data Frames"
   ]
  },
  {
   "cell_type": "code",
   "execution_count": null,
   "id": "471d1407-37b1-427c-9c3f-ba3dae6ffd74",
   "metadata": {},
   "outputs": [],
   "source": []
  },
  {
   "cell_type": "markdown",
   "id": "075d9950-91bd-4974-9a62-3084077926ff",
   "metadata": {},
   "source": [
    "## Population Pyramids"
   ]
  },
  {
   "cell_type": "markdown",
   "id": "a6a58825-6991-4b65-bff4-1879977fd963",
   "metadata": {},
   "source": [
    "Now we can visualize the populations of our countries of interest by age-sex groups. For simplicity, we will use the age-sex groups already defined by the World Bank."
   ]
  },
  {
   "cell_type": "markdown",
   "id": "fe75bbf1-3859-474a-9f18-f00aedb175f5",
   "metadata": {},
   "source": [
    "## Further Visualization Tools"
   ]
  },
  {
   "cell_type": "code",
   "execution_count": null,
   "id": "565cbbd0-1316-4549-84a6-b0f0c6ad038c",
   "metadata": {},
   "outputs": [],
   "source": []
  },
  {
   "cell_type": "markdown",
   "id": "a84b48e4-f295-4a54-89a8-cc822bf46ce4",
   "metadata": {},
   "source": [
    "## Agricultural Supply"
   ]
  },
  {
   "cell_type": "code",
   "execution_count": null,
   "id": "fc7fb560-b8cb-43f7-b024-0693ca2a0938",
   "metadata": {},
   "outputs": [],
   "source": []
  },
  {
   "cell_type": "markdown",
   "id": "f72b6507-07aa-4399-b872-f5acc0c34e85",
   "metadata": {},
   "source": [
    "## Works Cited"
   ]
  },
  {
   "cell_type": "markdown",
   "id": "f873c0af-82dd-44b6-b696-63382a0fa903",
   "metadata": {},
   "source": [
    "1) https://wmo.int/news/media-centre/climate-change-transforms-pacific-islands#:~:text=A%20triple%20whammy%20of%20accelerating,existence%20because%20of%20climate%20change."
   ]
  },
  {
   "cell_type": "markdown",
   "id": "d9de6e2b-60b9-47eb-8ffe-49b0a06f6ee9",
   "metadata": {},
   "source": [
    "2. https://research.fit.edu/media/site-specific/researchfitedu/coast-climate-adaptation-library/pacific-islands/micronesia/IFAD.--CC-Impacts.pdf"
   ]
  },
  {
   "cell_type": "markdown",
   "id": "fe29ecf5-172c-4a9a-ad10-9590b71fce53",
   "metadata": {},
   "source": [
    "3) https://sdgs.un.org/statements/pacific-small-island-developing-states-psids-11347"
   ]
  },
  {
   "cell_type": "code",
   "execution_count": null,
   "id": "e5ad5fc2-f0b9-4611-a0ba-f9ba98d99577",
   "metadata": {},
   "outputs": [],
   "source": []
  }
 ],
 "metadata": {
  "kernelspec": {
   "display_name": "Python 3 (ipykernel)",
   "language": "python",
   "name": "python3"
  },
  "language_info": {
   "codemirror_mode": {
    "name": "ipython",
    "version": 3
   },
   "file_extension": ".py",
   "mimetype": "text/x-python",
   "name": "python",
   "nbconvert_exporter": "python",
   "pygments_lexer": "ipython3",
   "version": "3.11.11"
  }
 },
 "nbformat": 4,
 "nbformat_minor": 5
}
